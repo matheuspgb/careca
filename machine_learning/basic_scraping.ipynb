{
  "nbformat": 4,
  "nbformat_minor": 0,
  "metadata": {
    "colab": {
      "provenance": []
    },
    "kernelspec": {
      "name": "python3",
      "display_name": "Python 3"
    },
    "language_info": {
      "name": "python"
    }
  },
  "cells": [
    {
      "cell_type": "markdown",
      "source": [
        "# **Friendly - WebScrap**"
      ],
      "metadata": {
        "id": "7y0nhw-hXC1O"
      }
    },
    {
      "cell_type": "markdown",
      "source": [
        "in this jupyter notebook, i present a friendly version of a web scrapping which will return to the user all the links of an internet page.\n",
        "\n",
        "I dubbed this script friendly because it was not programmed to perform tasks of finding hidden files or directories.\n",
        "\n",
        "Shall we take a look ? =)"
      ],
      "metadata": {
        "id": "G7SfQ2clW5N4"
      }
    },
    {
      "cell_type": "code",
      "execution_count": null,
      "metadata": {
        "id": "r6KW9Dk9TPr0"
      },
      "outputs": [],
      "source": [
        "from bs4 import BeautifulSoup\n",
        "import requests"
      ]
    },
    {
      "cell_type": "code",
      "source": [
        "#Beautiful Soup is a the python \"library\" that will allow us to scrap a web page\n",
        "\n",
        "from bs4 import BeautifulSoup # this line makes the library's import\n",
        "import requests # will use other to make requests with our python script\n",
        "\n",
        "URL = \"https://www.uol.com.br/\" #set the webpage here\n",
        "\n",
        "\n",
        "resp = requests.get(URL)\n",
        "bs = BeautifulSoup(resposta.text, \"lxml\")\n",
        "\n",
        "urls = set()\n",
        "\n",
        "\n",
        "for link in bs.find_all('a'):\n",
        "\n",
        "    if link['href'].startswith(URL):\n",
        "        urls.add(link['href'])\n",
        "\n",
        "        \n",
        "urls_scan = []\n",
        "\n",
        "\n",
        "limit = 0\n",
        "\n",
        "while True:\n",
        "\n",
        "    if limit == 10:\n",
        "      break\n",
        "      \n",
        "\n",
        "    try:\n",
        "        url = urls.pop()\n",
        "\n",
        "    except:\n",
        "        break\n",
        "\n",
        "    else:\n",
        "        if url not in urls_scan:\n",
        "\n",
        "            print (url)\n",
        "            urls_scan.append(url)\n",
        "            resp = requests.get(url)\n",
        "\n",
        "            bs = BeautifulSoup(resp.text, \"lxml\")\n",
        "\n",
        "            for link in bs.find_all('a'):\n",
        "                try:\n",
        "\n",
        "                    if link['href'].startswith(URL):\n",
        "                        urls.add(link['href'])\n",
        "\n",
        "                except:\n",
        "\n",
        "                    pass\n",
        "\n",
        "    limit += 1\n",
        "\n",
        "    \n"
      ],
      "metadata": {
        "colab": {
          "base_uri": "https://localhost:8080/"
        },
        "id": "ubacWx2ATVnm",
        "outputId": "dd218740-3489-4072-c8d6-b855e3d141e1"
      },
      "execution_count": null,
      "outputs": [
        {
          "output_type": "stream",
          "name": "stdout",
          "text": [
            "https://www.uol.com.br/universa/saude-da-mulher/\n",
            "https://www.uol.com.br/esporte/futebol/ultimas-noticias/2023/05/29/flamengo-anuncia-multa-e-afastamento-de-marinho-por-questoes-disciplinares.htm\n",
            "https://www.uol.com.br/esporte/videos/2023/05/26/corinthians-ou-flamengo-qual-clube-levara-mais-tempo-para-sair-da-crise--posse-de-bola.htm\n",
            "https://www.uol.com.br/esporte/futebol/campeonatos/liga-dos-campeoes/\n",
            "https://www.uol.com.br/ecoa/ultimas-noticias/2023/05/29/tasso.htm\n",
            "https://www.uol.com.br/universa/pausa/stalkeadas/\n",
            "https://www.uol.com.br/esporte/colunas/julio-gomes/2023/05/29/atitude-de-abel-escancara-um-divorcio-pessimo-para-treinadores-e-imprensa.htm\n",
            "https://www.uol.com.br/splash/noticias/2023/05/29/privacy-concorrente-brasileiro-onlyfans.htm\n",
            "https://www.uol.com.br/esporte/colunas/julio-gomes/\n",
            "https://www.uol.com.br/splash/noticias/2023/05/29/jane-fonda-joga-premio-na-cabeca-de-cineasta-no-festival-de-cannes.htm\n"
          ]
        }
      ]
    },
    {
      "cell_type": "markdown",
      "source": [
        "As we can see, our script works fine with some lines of code and if you enjoy the area of ​​data or artificial intelligence, know that this type of algorithm is used to create datalakes, which are structures that store the data used in data products"
      ],
      "metadata": {
        "id": "RtgJ67WeX96J"
      }
    },
    {
      "cell_type": "markdown",
      "source": [
        "Thanks!"
      ],
      "metadata": {
        "id": "viijjdXqYZwP"
      }
    },
    {
      "cell_type": "code",
      "source": [],
      "metadata": {
        "id": "KfWlT7w-YeEo"
      },
      "execution_count": null,
      "outputs": []
    }
  ]
}