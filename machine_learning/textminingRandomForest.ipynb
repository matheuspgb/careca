{
  "nbformat": 4,
  "nbformat_minor": 0,
  "metadata": {
    "colab": {
      "provenance": []
    },
    "kernelspec": {
      "name": "python3",
      "display_name": "Python 3"
    },
    "language_info": {
      "name": "python"
    }
  },
  "cells": [
    {
      "cell_type": "code",
      "source": [],
      "metadata": {
        "id": "svJmwpW-6Yuz"
      },
      "execution_count": null,
      "outputs": []
    },
    {
      "cell_type": "markdown",
      "source": [
        "Let's imagine that we work in the data science area of a company and that we have been assigned the objective of creating a tool capable of automatically analyzing feedback from our customers. that is, we must find out if it is possible to develop an algorithm capable of automatically learning and predicting the feelings of customers in relation to the company's product and then providing support to the marketing team.\n",
        "so, in order to create a prototype capable of meeting the needs of our company, we will use the IMDB dataset that contains information about feedback being positive or not"
      ],
      "metadata": {
        "id": "g2IAtgx36ZUc"
      }
    },
    {
      "cell_type": "code",
      "execution_count": null,
      "metadata": {
        "colab": {
          "base_uri": "https://localhost:8080/"
        },
        "id": "JBPrezaa1asM",
        "outputId": "c117f1d3-43ad-4896-fe35-52d93fc6a2da"
      },
      "outputs": [
        {
          "output_type": "stream",
          "name": "stdout",
          "text": [
            "Mounted at /content/drive\n"
          ]
        }
      ],
      "source": [
        "from google.colab import drive\n",
        "\n",
        "drive.mount('/content/drive')"
      ]
    },
    {
      "cell_type": "code",
      "source": [
        "import pandas as pd\n",
        "\n",
        "df = pd.read_csv('/content/drive/MyDrive/IMDB Dataset.csv')\n",
        "df.head()"
      ],
      "metadata": {
        "colab": {
          "base_uri": "https://localhost:8080/",
          "height": 206
        },
        "id": "7H4ccP8c1jM7",
        "outputId": "819c40a9-1c7c-499b-c9ba-7fa704747b87"
      },
      "execution_count": null,
      "outputs": [
        {
          "output_type": "execute_result",
          "data": {
            "text/plain": [
              "                                              review sentiment\n",
              "0  One of the other reviewers has mentioned that ...  positive\n",
              "1  A wonderful little production. <br /><br />The...  positive\n",
              "2  I thought this was a wonderful way to spend ti...  positive\n",
              "3  Basically there's a family where a little boy ...  negative\n",
              "4  Petter Mattei's \"Love in the Time of Money\" is...  positive"
            ],
            "text/html": [
              "\n",
              "  <div id=\"df-50dd78bd-0118-4b5c-be4a-7a4c3d95c6d4\">\n",
              "    <div class=\"colab-df-container\">\n",
              "      <div>\n",
              "<style scoped>\n",
              "    .dataframe tbody tr th:only-of-type {\n",
              "        vertical-align: middle;\n",
              "    }\n",
              "\n",
              "    .dataframe tbody tr th {\n",
              "        vertical-align: top;\n",
              "    }\n",
              "\n",
              "    .dataframe thead th {\n",
              "        text-align: right;\n",
              "    }\n",
              "</style>\n",
              "<table border=\"1\" class=\"dataframe\">\n",
              "  <thead>\n",
              "    <tr style=\"text-align: right;\">\n",
              "      <th></th>\n",
              "      <th>review</th>\n",
              "      <th>sentiment</th>\n",
              "    </tr>\n",
              "  </thead>\n",
              "  <tbody>\n",
              "    <tr>\n",
              "      <th>0</th>\n",
              "      <td>One of the other reviewers has mentioned that ...</td>\n",
              "      <td>positive</td>\n",
              "    </tr>\n",
              "    <tr>\n",
              "      <th>1</th>\n",
              "      <td>A wonderful little production. &lt;br /&gt;&lt;br /&gt;The...</td>\n",
              "      <td>positive</td>\n",
              "    </tr>\n",
              "    <tr>\n",
              "      <th>2</th>\n",
              "      <td>I thought this was a wonderful way to spend ti...</td>\n",
              "      <td>positive</td>\n",
              "    </tr>\n",
              "    <tr>\n",
              "      <th>3</th>\n",
              "      <td>Basically there's a family where a little boy ...</td>\n",
              "      <td>negative</td>\n",
              "    </tr>\n",
              "    <tr>\n",
              "      <th>4</th>\n",
              "      <td>Petter Mattei's \"Love in the Time of Money\" is...</td>\n",
              "      <td>positive</td>\n",
              "    </tr>\n",
              "  </tbody>\n",
              "</table>\n",
              "</div>\n",
              "      <button class=\"colab-df-convert\" onclick=\"convertToInteractive('df-50dd78bd-0118-4b5c-be4a-7a4c3d95c6d4')\"\n",
              "              title=\"Convert this dataframe to an interactive table.\"\n",
              "              style=\"display:none;\">\n",
              "        \n",
              "  <svg xmlns=\"http://www.w3.org/2000/svg\" height=\"24px\"viewBox=\"0 0 24 24\"\n",
              "       width=\"24px\">\n",
              "    <path d=\"M0 0h24v24H0V0z\" fill=\"none\"/>\n",
              "    <path d=\"M18.56 5.44l.94 2.06.94-2.06 2.06-.94-2.06-.94-.94-2.06-.94 2.06-2.06.94zm-11 1L8.5 8.5l.94-2.06 2.06-.94-2.06-.94L8.5 2.5l-.94 2.06-2.06.94zm10 10l.94 2.06.94-2.06 2.06-.94-2.06-.94-.94-2.06-.94 2.06-2.06.94z\"/><path d=\"M17.41 7.96l-1.37-1.37c-.4-.4-.92-.59-1.43-.59-.52 0-1.04.2-1.43.59L10.3 9.45l-7.72 7.72c-.78.78-.78 2.05 0 2.83L4 21.41c.39.39.9.59 1.41.59.51 0 1.02-.2 1.41-.59l7.78-7.78 2.81-2.81c.8-.78.8-2.07 0-2.86zM5.41 20L4 18.59l7.72-7.72 1.47 1.35L5.41 20z\"/>\n",
              "  </svg>\n",
              "      </button>\n",
              "      \n",
              "  <style>\n",
              "    .colab-df-container {\n",
              "      display:flex;\n",
              "      flex-wrap:wrap;\n",
              "      gap: 12px;\n",
              "    }\n",
              "\n",
              "    .colab-df-convert {\n",
              "      background-color: #E8F0FE;\n",
              "      border: none;\n",
              "      border-radius: 50%;\n",
              "      cursor: pointer;\n",
              "      display: none;\n",
              "      fill: #1967D2;\n",
              "      height: 32px;\n",
              "      padding: 0 0 0 0;\n",
              "      width: 32px;\n",
              "    }\n",
              "\n",
              "    .colab-df-convert:hover {\n",
              "      background-color: #E2EBFA;\n",
              "      box-shadow: 0px 1px 2px rgba(60, 64, 67, 0.3), 0px 1px 3px 1px rgba(60, 64, 67, 0.15);\n",
              "      fill: #174EA6;\n",
              "    }\n",
              "\n",
              "    [theme=dark] .colab-df-convert {\n",
              "      background-color: #3B4455;\n",
              "      fill: #D2E3FC;\n",
              "    }\n",
              "\n",
              "    [theme=dark] .colab-df-convert:hover {\n",
              "      background-color: #434B5C;\n",
              "      box-shadow: 0px 1px 3px 1px rgba(0, 0, 0, 0.15);\n",
              "      filter: drop-shadow(0px 1px 2px rgba(0, 0, 0, 0.3));\n",
              "      fill: #FFFFFF;\n",
              "    }\n",
              "  </style>\n",
              "\n",
              "      <script>\n",
              "        const buttonEl =\n",
              "          document.querySelector('#df-50dd78bd-0118-4b5c-be4a-7a4c3d95c6d4 button.colab-df-convert');\n",
              "        buttonEl.style.display =\n",
              "          google.colab.kernel.accessAllowed ? 'block' : 'none';\n",
              "\n",
              "        async function convertToInteractive(key) {\n",
              "          const element = document.querySelector('#df-50dd78bd-0118-4b5c-be4a-7a4c3d95c6d4');\n",
              "          const dataTable =\n",
              "            await google.colab.kernel.invokeFunction('convertToInteractive',\n",
              "                                                     [key], {});\n",
              "          if (!dataTable) return;\n",
              "\n",
              "          const docLinkHtml = 'Like what you see? Visit the ' +\n",
              "            '<a target=\"_blank\" href=https://colab.research.google.com/notebooks/data_table.ipynb>data table notebook</a>'\n",
              "            + ' to learn more about interactive tables.';\n",
              "          element.innerHTML = '';\n",
              "          dataTable['output_type'] = 'display_data';\n",
              "          await google.colab.output.renderOutput(dataTable, element);\n",
              "          const docLink = document.createElement('div');\n",
              "          docLink.innerHTML = docLinkHtml;\n",
              "          element.appendChild(docLink);\n",
              "        }\n",
              "      </script>\n",
              "    </div>\n",
              "  </div>\n",
              "  "
            ]
          },
          "metadata": {},
          "execution_count": 2
        }
      ]
    },
    {
      "cell_type": "markdown",
      "source": [
        "After importing the dataset, we can see that it has two columns - one with the text and the other with the sentiment attributed to the feedback in question.\n",
        "Remembering that our task is to create a prototype of a product to support the analysis of feedback from the company's customers and by noticing the characteristics of the data set, we can conclude that it is possible to develop such a tool through supposited learning"
      ],
      "metadata": {
        "id": "-9mAeX0Z_SIy"
      }
    },
    {
      "cell_type": "markdown",
      "source": [
        "Supervised learning is one in which computer learning will take place through examples that have already been recorded. note, for example, that in the dataset used in our prototype we have information about the written comment and whether it was positive or not."
      ],
      "metadata": {
        "id": "urH_ng13_SGa"
      }
    },
    {
      "cell_type": "markdown",
      "source": [
        "So far, we deduced that it is possible to develop a tool capable of helping the user experience team in their analyzes through supervised learning. so, it's time to test the possible machine learning algorithms for this task - for this brief notebook, I took the liberty of testing only the random forest algorithm so that the tutorial is not extensive"
      ],
      "metadata": {
        "id": "IuwozELV_RxD"
      }
    },
    {
      "cell_type": "markdown",
      "source": [
        "At this stage, we can conduct the training with the following steps:\n",
        "\n",
        "        A) Split the dataset into training/test\n",
        "        B) Prepare the training dataset\n",
        "        C) Fit the machine learning algorithm (with the training dataset)\n",
        "        D) Evaluate the model on the test dataset\n",
        "        E) Save the model to further deploy\n"
      ],
      "metadata": {
        "id": "qcwpkHmIDu0h"
      }
    },
    {
      "cell_type": "code",
      "source": [
        "#With this cell, we can split the original dataset into 2, train/test dataset\n",
        "\n",
        "from sklearn.model_selection import train_test_split\n",
        "\n",
        "X = df.review\n",
        "y = df.sentiment\n",
        "\n",
        "X_train, X_test, y_train, y_test = train_test_split(X, y)"
      ],
      "metadata": {
        "id": "DvDrcMWr3XvE"
      },
      "execution_count": null,
      "outputs": []
    },
    {
      "cell_type": "code",
      "source": [
        "print('X_train -> ', X_train.shape) #this print the training data set's dimensions\n",
        "print('X_test -> ', X_test.shape) #the same idea before, note we'll use 12500 observations to validate our model"
      ],
      "metadata": {
        "colab": {
          "base_uri": "https://localhost:8080/"
        },
        "id": "aADPw3uX3YJ8",
        "outputId": "5e740fa2-7d2e-446d-dc73-fadadae0abbd"
      },
      "execution_count": null,
      "outputs": [
        {
          "output_type": "stream",
          "name": "stdout",
          "text": [
            "X_train ->  (37500,)\n",
            "X_test ->  (12500,)\n"
          ]
        }
      ]
    },
    {
      "cell_type": "code",
      "source": [
        " #In this cell, we will import our Randon Forrest model, a cross validations function and a feature text extraction for the training task\n",
        "\n",
        " from sklearn.ensemble import ExtraTreesClassifier #import our model\n",
        " from sklearn.model_selection import cross_val_score # import the cross validations funciontion\n",
        " from sklearn.feature_extraction.text import TfidfVectorizer # import the model that will transform our text data into a numeric one\n",
        "\n",
        "\n",
        "Tf = TfidfVectorizer() # the model that will transform our text data into a numeric one\n",
        "\n",
        "\n",
        "X_traintf = Tf.fit_transform(X_train) # here we fit and trasnform the training data into numbers, note we will use it to transoform the test training ass well\n",
        "\n",
        "\n"
      ],
      "metadata": {
        "id": "QXuAmTh13Yew"
      },
      "execution_count": null,
      "outputs": []
    },
    {
      "cell_type": "code",
      "source": [
        "#in this cell we will evalute our model with the cross val function - it will provide us an estimation about the model's accuracy.\n",
        "#then we will fit our model at the training data set.\n",
        "\n",
        "model_score = cross_val_score(ExtraTreesClassifier(), X_traintf, y_train, cv=2)"
      ],
      "metadata": {
        "id": "jTc2BvQg4ISl"
      },
      "execution_count": null,
      "outputs": []
    },
    {
      "cell_type": "code",
      "source": [
        "model_score #show the cv's score for each kfold"
      ],
      "metadata": {
        "colab": {
          "base_uri": "https://localhost:8080/"
        },
        "id": "p-kf09PU4Kvq",
        "outputId": "8e728eff-ecca-450b-a340-bf79986c0be7"
      },
      "execution_count": null,
      "outputs": [
        {
          "output_type": "execute_result",
          "data": {
            "text/plain": [
              "array([0.85386667, 0.85488   ])"
            ]
          },
          "metadata": {},
          "execution_count": 6
        }
      ]
    },
    {
      "cell_type": "code",
      "source": [],
      "metadata": {
        "id": "VPeReJR0aju5"
      },
      "execution_count": null,
      "outputs": []
    },
    {
      "cell_type": "markdown",
      "source": [
        "At this point, we estimate our model's accuracy would be arround 85% then our next task will be to predict the test data set and check the rate of our model"
      ],
      "metadata": {
        "id": "ck_4SQstalLR"
      }
    },
    {
      "cell_type": "code",
      "source": [
        "#Here we fit our model with the traning dataset\n",
        "model = ExtraTreesClassifier().fit(X_traintf, y_train)"
      ],
      "metadata": {
        "id": "_QU7nLsE4LGw"
      },
      "execution_count": null,
      "outputs": []
    },
    {
      "cell_type": "code",
      "source": [
        "#At this point, we use the Tf method to transform the training set into a numeric matrix (based on the training set) and then predict\n",
        "preds = model.predict(Tf.transform(X_test))"
      ],
      "metadata": {
        "id": "IQDPbXQ64LLy"
      },
      "execution_count": null,
      "outputs": []
    },
    {
      "cell_type": "code",
      "source": [
        "#with this cell, we can now check our model's accuracy rate on the test data set\n",
        "from sklearn.metrics import classification_report, confusion_matrix"
      ],
      "metadata": {
        "id": "V2jC8fnp4LP6"
      },
      "execution_count": null,
      "outputs": []
    },
    {
      "cell_type": "code",
      "source": [
        "\n",
        "print(classification_report(y_test, preds))\n",
        "\n",
        "print('\\n')\n",
        "\n",
        "print(confusion_matrix(y_test, preds))"
      ],
      "metadata": {
        "colab": {
          "base_uri": "https://localhost:8080/"
        },
        "id": "0GLVZ6xY4LUP",
        "outputId": "c68a272e-42c0-46a4-c8bf-f595fb1cd151"
      },
      "execution_count": null,
      "outputs": [
        {
          "output_type": "stream",
          "name": "stdout",
          "text": [
            "              precision    recall  f1-score   support\n",
            "\n",
            "    negative       0.85      0.86      0.86      6233\n",
            "    positive       0.86      0.85      0.85      6267\n",
            "\n",
            "    accuracy                           0.86     12500\n",
            "   macro avg       0.86      0.86      0.86     12500\n",
            "weighted avg       0.86      0.86      0.86     12500\n",
            "\n",
            "\n",
            "\n",
            "[[5380  853]\n",
            " [ 957 5310]]\n"
          ]
        }
      ]
    },
    {
      "cell_type": "code",
      "source": [],
      "metadata": {
        "id": "8-vw3SmachqP"
      },
      "execution_count": null,
      "outputs": []
    },
    {
      "cell_type": "markdown",
      "source": [
        "By using the classification report, we can see our model's accuracy was 86% a value pretty closer to the one calculeted with cross_validation_report - it wass pretty good!"
      ],
      "metadata": {
        "id": "ZSVokX2pcix-"
      }
    },
    {
      "cell_type": "markdown",
      "source": [
        "At this point, we have our machine learning model ready for commercial use. Now suppose we want to deploy the model. We could do this by calling the pickle module, whose function would be to save our algorithm in a file for future imports, without the need to perform training."
      ],
      "metadata": {
        "id": "l9Bf6Udtc-Dm"
      }
    },
    {
      "cell_type": "code",
      "source": [
        "#import the pickle module\n",
        "import pickle"
      ],
      "metadata": {
        "id": "XFnDxKr64LYS"
      },
      "execution_count": null,
      "outputs": []
    },
    {
      "cell_type": "code",
      "source": [
        "# save the model to disk\n",
        "filename = '/content/drive/MyDrive/Tf.pkl'\n",
        "pickle.dump(Tf, open(filename, 'wb'))"
      ],
      "metadata": {
        "id": "Dp3JtKKx4LcW"
      },
      "execution_count": null,
      "outputs": []
    },
    {
      "cell_type": "code",
      "source": [
        "# save the model to disk\n",
        "filename = '/content/drive/MyDrive/model.pkl'\n",
        "pickle.dump(model, open(filename, 'wb'))"
      ],
      "metadata": {
        "id": "pU0yJsWv4LgW"
      },
      "execution_count": null,
      "outputs": []
    },
    {
      "cell_type": "markdown",
      "source": [
        "It's done!\n",
        "With the model saved in a pickle file we can create a small application in django or flask that will be able to serve a user with the predictions of our model"
      ],
      "metadata": {
        "id": "Hr4xUWZsd5td"
      }
    }
  ]
}